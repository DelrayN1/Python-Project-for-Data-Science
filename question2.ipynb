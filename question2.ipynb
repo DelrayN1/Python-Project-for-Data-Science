{
 "cells": [
  {
   "cell_type": "code",
   "execution_count": 11,
   "id": "4bac41a4-2b77-42ac-bc26-d54c6f5ba75b",
   "metadata": {},
   "outputs": [],
   "source": [
    "import requests\n",
    "from bs4 import BeautifulSoup\n",
    "import pandas as pd\n",
    "from io import StringIO"
   ]
  },
  {
   "cell_type": "code",
   "execution_count": 12,
   "id": "42b31ed7-80af-4e6c-85b9-97c5b28e5072",
   "metadata": {},
   "outputs": [],
   "source": [
    "url = \"https://cf-courses-data.s3.us.cloud-object-storage.appdomain.cloud/IBMDeveloperSkillsNetwork-PY0220EN-SkillsNetwork/labs/project/revenue.htm\"\n",
    "html_data = requests.get(url).text"
   ]
  },
  {
   "cell_type": "code",
   "execution_count": 13,
   "id": "d389cfe4-cf52-4fed-9d6c-457ad36641d5",
   "metadata": {},
   "outputs": [],
   "source": [
    "soup = BeautifulSoup(html_data, 'html.parser')"
   ]
  },
  {
   "cell_type": "code",
   "execution_count": 14,
   "id": "a3e708e4-7713-464a-9d08-1e6db2af6309",
   "metadata": {},
   "outputs": [],
   "source": [
    "tables = soup.find_all(\"table\")\n",
    "tesla_revenue_table = None\n",
    "for table in tables:\n",
    "    if \"Revenue\" in str(table):\n",
    "        tesla_revenue_table = table\n",
    "        break"
   ]
  },
  {
   "cell_type": "code",
   "execution_count": 15,
   "id": "817e957e-7cf3-462e-8424-a97ccf77acf7",
   "metadata": {},
   "outputs": [],
   "source": [
    "tesla_revenue = pd.read_html(StringIO(str(tesla_revenue_table)))[0]"
   ]
  },
  {
   "cell_type": "code",
   "execution_count": 16,
   "id": "9e4d30d3-7bf2-4cf5-be04-743e68ebcbd0",
   "metadata": {},
   "outputs": [],
   "source": [
    "tesla_revenue.columns = [\"Date\", \"Revenue\"] \n",
    "tesla_revenue[\"Revenue\"] = tesla_revenue[\"Revenue\"].replace(\"[\\$,]\", \"\", regex=True)  \n",
    "tesla_revenue[\"Revenue\"] = pd.to_numeric(tesla_revenue[\"Revenue\"])  "
   ]
  },
  {
   "cell_type": "code",
   "execution_count": 17,
   "id": "b4bbb567-00fe-4126-9b0c-ed6359f65a17",
   "metadata": {},
   "outputs": [],
   "source": [
    "tesla_revenue.dropna(inplace=True)"
   ]
  },
  {
   "cell_type": "code",
   "execution_count": 18,
   "id": "d9d23355-b34f-4e3f-bcdf-8c747972c304",
   "metadata": {},
   "outputs": [
    {
     "name": "stdout",
     "output_type": "stream",
     "text": [
      "   Date  Revenue\n",
      "0  2021    53823\n",
      "1  2020    31536\n",
      "2  2019    24578\n",
      "3  2018    21461\n",
      "4  2017    11759\n"
     ]
    }
   ],
   "source": [
    "print(tesla_revenue.head())"
   ]
  },
  {
   "cell_type": "code",
   "execution_count": null,
   "id": "bff39cf7-757d-4521-91bd-da6a2348af01",
   "metadata": {},
   "outputs": [],
   "source": []
  }
 ],
 "metadata": {
  "kernelspec": {
   "display_name": "Python 3 (ipykernel)",
   "language": "python",
   "name": "python3"
  },
  "language_info": {
   "codemirror_mode": {
    "name": "ipython",
    "version": 3
   },
   "file_extension": ".py",
   "mimetype": "text/x-python",
   "name": "python",
   "nbconvert_exporter": "python",
   "pygments_lexer": "ipython3",
   "version": "3.11.9"
  }
 },
 "nbformat": 4,
 "nbformat_minor": 5
}
