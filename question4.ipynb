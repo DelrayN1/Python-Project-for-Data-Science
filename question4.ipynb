{
 "cells": [
  {
   "cell_type": "code",
   "execution_count": 22,
   "id": "bc4905d2-02a7-401b-bd17-d1a682cc83b7",
   "metadata": {},
   "outputs": [],
   "source": [
    "import requests\n",
    "from bs4 import BeautifulSoup\n",
    "from io import StringIO"
   ]
  },
  {
   "cell_type": "code",
   "execution_count": 8,
   "id": "79d846ed-98d7-42b2-8fcb-4b0abc409e05",
   "metadata": {},
   "outputs": [],
   "source": [
    "url = \"https://cf-courses-data.s3.us.cloud-object-storage.appdomain.cloud/IBMDeveloperSkillsNetwork-PY0220EN-SkillsNetwork/labs/project/stock.html\"\n",
    "html_data = requests.get(url).text"
   ]
  },
  {
   "cell_type": "code",
   "execution_count": 9,
   "id": "58cc3c34-35fd-4721-8fe2-fec2f9cda80f",
   "metadata": {},
   "outputs": [],
   "source": [
    "soup = BeautifulSoup(html_data, 'html.parser')"
   ]
  },
  {
   "cell_type": "code",
   "execution_count": 10,
   "id": "fe9bbfe3-36f5-46a1-b21a-59cfc2e7d093",
   "metadata": {},
   "outputs": [
    {
     "name": "stdout",
     "output_type": "stream",
     "text": [
      "<!DOCTYPE html>\n",
      "<!-- saved from url=(0105)https://web.archive.org/web/20200814131437/https://www.macrotrends.net/stocks/charts/GME/gamestop/revenue -->\n",
      "<html class=\"js flexbox canvas canvastext webgl no-touch geolocation postmessage websqldatabase indexeddb hashchange history draganddrop websockets rgba hsla multiplebgs backgroundsize borderimage borderradius boxshadow textshadow opacity cssanimations csscolumns cssgradients cssreflections csstransforms csstransforms3d csstransitions fontface ge\n"
     ]
    }
   ],
   "source": [
    "print(soup.prettify()[:500])"
   ]
  },
  {
   "cell_type": "code",
   "execution_count": 17,
   "id": "537ae60c-9f71-412b-b855-b43529a656ae",
   "metadata": {},
   "outputs": [],
   "source": [
    "import pandas as pd\n"
   ]
  },
  {
   "cell_type": "code",
   "execution_count": 18,
   "id": "b7311c8e-de3c-4976-aa48-7fc82a0cc763",
   "metadata": {},
   "outputs": [],
   "source": [
    "tables = soup.find_all(\"table\")"
   ]
  },
  {
   "cell_type": "code",
   "execution_count": 19,
   "id": "7a439bea-a919-4d0b-8932-a2fbe1dcbb2e",
   "metadata": {},
   "outputs": [],
   "source": [
    "gme_revenue_table = None\n",
    "for table in tables:\n",
    "    if \"Revenue\" in str(table):\n",
    "        gme_revenue_table = table\n",
    "        break"
   ]
  },
  {
   "cell_type": "code",
   "execution_count": 24,
   "id": "c45d5992-1f89-465e-810f-23361ce91d83",
   "metadata": {},
   "outputs": [],
   "source": [
    "gme_revenue = pd.read_html(StringIO(str(gme_revenue_table)))[0]"
   ]
  },
  {
   "cell_type": "code",
   "execution_count": 25,
   "id": "9c4d232d-9499-4638-8009-e79b342f2415",
   "metadata": {},
   "outputs": [],
   "source": [
    "gme_revenue.columns = [\"Date\", \"Revenue\"]  \n",
    "gme_revenue[\"Revenue\"] = gme_revenue[\"Revenue\"].replace(\"[\\$,]\", \"\", regex=True)  \n",
    "gme_revenue[\"Revenue\"] = pd.to_numeric(gme_revenue[\"Revenue\"], errors=\"coerce\") \n",
    "gme_revenue.dropna(inplace=True) "
   ]
  },
  {
   "cell_type": "code",
   "execution_count": 26,
   "id": "62a8bfc9-fa90-4522-a97a-71481bed0d2e",
   "metadata": {},
   "outputs": [
    {
     "name": "stdout",
     "output_type": "stream",
     "text": [
      "   Date  Revenue\n",
      "0  2020     6466\n",
      "1  2019     8285\n",
      "2  2018     8547\n",
      "3  2017     7965\n",
      "4  2016     9364\n"
     ]
    }
   ],
   "source": [
    "print(gme_revenue.head())"
   ]
  },
  {
   "cell_type": "code",
   "execution_count": null,
   "id": "d7735eae-f1f6-45a4-ad52-383ff4f9bdf4",
   "metadata": {},
   "outputs": [],
   "source": []
  }
 ],
 "metadata": {
  "kernelspec": {
   "display_name": "Python 3 (ipykernel)",
   "language": "python",
   "name": "python3"
  },
  "language_info": {
   "codemirror_mode": {
    "name": "ipython",
    "version": 3
   },
   "file_extension": ".py",
   "mimetype": "text/x-python",
   "name": "python",
   "nbconvert_exporter": "python",
   "pygments_lexer": "ipython3",
   "version": "3.11.9"
  }
 },
 "nbformat": 4,
 "nbformat_minor": 5
}
